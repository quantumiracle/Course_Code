{
 "cells": [
  {
   "cell_type": "markdown",
   "metadata": {},
   "source": [
    "# CO460 - Deep Learning - Lab exercise 3"
   ]
  },
  {
   "cell_type": "markdown",
   "metadata": {},
   "source": [
    "## Introduction\n",
    "\n",
    "In this exercise, you will develop and experiment with convolutional AEs (CAE) and VAEs (CVAE).\n",
    "You will be asked to:\n",
    "\n",
    "- experiment with the architectures and compare the convolutional models to the fully connected ones. \n",
    "- investigate and implement sampling and interpolation in the latent space."
   ]
  },
  {
   "cell_type": "code",
   "execution_count": 2,
   "metadata": {},
   "outputs": [],
   "source": [
    "import os\n",
    "import torch\n",
    "import torch.nn as nn\n",
    "import torch.optim as optim\n",
    "from torch.utils.data import DataLoader\n",
    "from torchvision import datasets, transforms\n",
    "from torchvision.utils import save_image \n",
    "import torch.nn.functional as F\n",
    "from utils import *\n",
    "import matplotlib.pyplot as plt\n",
    "import numpy as np\n",
    "\n",
    "from utils import denorm_for_tanh, denorm_for_sigmoid"
   ]
  },
  {
   "cell_type": "markdown",
   "metadata": {},
   "source": [
    "### Device selection"
   ]
  },
  {
   "cell_type": "code",
   "execution_count": 4,
   "metadata": {},
   "outputs": [
    {
     "ename": "AttributeError",
     "evalue": "module 'torch' has no attribute 'device'",
     "output_type": "error",
     "traceback": [
      "\u001b[0;31m---------------------------------------------------------------------------\u001b[0m",
      "\u001b[0;31mAttributeError\u001b[0m                            Traceback (most recent call last)",
      "\u001b[0;32m<ipython-input-4-186ab98f28bd>\u001b[0m in \u001b[0;36m<module>\u001b[0;34m()\u001b[0m\n\u001b[1;32m      2\u001b[0m \u001b[0mdevice_idx\u001b[0m \u001b[0;34m=\u001b[0m \u001b[0;36m0\u001b[0m\u001b[0;34m\u001b[0m\u001b[0m\n\u001b[1;32m      3\u001b[0m \u001b[0;32mif\u001b[0m \u001b[0mGPU\u001b[0m\u001b[0;34m:\u001b[0m\u001b[0;34m\u001b[0m\u001b[0m\n\u001b[0;32m----> 4\u001b[0;31m     \u001b[0mdevice\u001b[0m \u001b[0;34m=\u001b[0m \u001b[0mtorch\u001b[0m\u001b[0;34m.\u001b[0m\u001b[0mdevice\u001b[0m\u001b[0;34m(\u001b[0m\u001b[0;34m\"cuda:\"\u001b[0m\u001b[0;34m+\u001b[0m\u001b[0mstr\u001b[0m\u001b[0;34m(\u001b[0m\u001b[0mdevice_idx\u001b[0m\u001b[0;34m)\u001b[0m \u001b[0;32mif\u001b[0m \u001b[0mtorch\u001b[0m\u001b[0;34m.\u001b[0m\u001b[0mcuda\u001b[0m\u001b[0;34m.\u001b[0m\u001b[0mis_available\u001b[0m\u001b[0;34m(\u001b[0m\u001b[0;34m)\u001b[0m \u001b[0;32melse\u001b[0m \u001b[0;34m\"cpu\"\u001b[0m\u001b[0;34m)\u001b[0m\u001b[0;34m\u001b[0m\u001b[0m\n\u001b[0m\u001b[1;32m      5\u001b[0m \u001b[0;32melse\u001b[0m\u001b[0;34m:\u001b[0m\u001b[0;34m\u001b[0m\u001b[0m\n\u001b[1;32m      6\u001b[0m \u001b[0;34m\u001b[0m\u001b[0m\n",
      "\u001b[0;31mAttributeError\u001b[0m: module 'torch' has no attribute 'device'"
     ]
    }
   ],
   "source": [
    "GPU = True\n",
    "device_idx = 0\n",
    "if GPU:\n",
    "    device = torch.device(\"cuda:\"+str(device_idx) if torch.cuda.is_available() else \"cpu\")\n",
    "else:\n",
    "    \n",
    "    device = torch.device(\"cpu\")\n",
    "print(device)"
   ]
  },
  {
   "cell_type": "markdown",
   "metadata": {},
   "source": [
    "### Reproducibility"
   ]
  },
  {
   "cell_type": "code",
   "execution_count": 5,
   "metadata": {},
   "outputs": [
    {
     "data": {
      "text/plain": [
       "<torch._C.Generator at 0x7fb7cc0cf990>"
      ]
     },
     "execution_count": 5,
     "metadata": {},
     "output_type": "execute_result"
    }
   ],
   "source": [
    "# We set a random seed to ensure that your results are reproducible.\n",
    "if torch.cuda.is_available():\n",
    "    torch.backends.cudnn.deterministic = True\n",
    "torch.manual_seed(0)"
   ]
  },
  {
   "cell_type": "markdown",
   "metadata": {},
   "source": [
    "## Part 1 - CAE"
   ]
  },
  {
   "cell_type": "markdown",
   "metadata": {},
   "source": [
    "### Normalization: \n",
    "$ x_{norm} = \\frac{x-\\mu}{\\sigma} $\n",
    "\n",
    "_Thus_ :\n",
    "$ \\min{x_{norm}} = \\frac{\\min{(x)}-\\mu}{\\sigma} = \\frac{0-0.5}{0.5} = -1 $\n",
    "\n",
    "_Similarly_:\n",
    "\n",
    "$ \\max{(x_{norm})} = ... = 1 $\n",
    "\n",
    "\n",
    "* Input $\\in [-1,1] $\n",
    "* Output should span the same interval $ \\rightarrow$ Activation function of the output layer should be chosen carfeully (Here??)"
   ]
  },
  {
   "cell_type": "code",
   "execution_count": 7,
   "metadata": {},
   "outputs": [
    {
     "ename": "AttributeError",
     "evalue": "Can't get attribute '_rebuild_tensor_v2' on <module 'torch._utils' from '/home/quantumiracle/.conda/envs/rllab3/lib/python3.5/site-packages/torch/_utils.py'>",
     "output_type": "error",
     "traceback": [
      "\u001b[0;31m---------------------------------------------------------------------------\u001b[0m",
      "\u001b[0;31mAttributeError\u001b[0m                            Traceback (most recent call last)",
      "\u001b[0;32m<ipython-input-7-cb29e6b6f536>\u001b[0m in \u001b[0;36m<module>\u001b[0;34m()\u001b[0m\n\u001b[1;32m      7\u001b[0m \u001b[0;34m\u001b[0m\u001b[0m\n\u001b[1;32m      8\u001b[0m train_dat = datasets.MNIST(\n\u001b[0;32m----> 9\u001b[0;31m     \u001b[0;34m\"data/\"\u001b[0m\u001b[0;34m,\u001b[0m \u001b[0mtrain\u001b[0m\u001b[0;34m=\u001b[0m\u001b[0;32mTrue\u001b[0m\u001b[0;34m,\u001b[0m \u001b[0mdownload\u001b[0m\u001b[0;34m=\u001b[0m\u001b[0;32mTrue\u001b[0m\u001b[0;34m,\u001b[0m \u001b[0mtransform\u001b[0m\u001b[0;34m=\u001b[0m\u001b[0mtransform\u001b[0m\u001b[0;34m\u001b[0m\u001b[0m\n\u001b[0m\u001b[1;32m     10\u001b[0m )\n\u001b[1;32m     11\u001b[0m \u001b[0mtest_dat\u001b[0m \u001b[0;34m=\u001b[0m \u001b[0mdatasets\u001b[0m\u001b[0;34m.\u001b[0m\u001b[0mMNIST\u001b[0m\u001b[0;34m(\u001b[0m\u001b[0;34m\"data/\"\u001b[0m\u001b[0;34m,\u001b[0m \u001b[0mtrain\u001b[0m\u001b[0;34m=\u001b[0m\u001b[0;32mFalse\u001b[0m\u001b[0;34m,\u001b[0m \u001b[0mtransform\u001b[0m\u001b[0;34m=\u001b[0m\u001b[0mtransform\u001b[0m\u001b[0;34m)\u001b[0m\u001b[0;34m\u001b[0m\u001b[0m\n",
      "\u001b[0;32m~/.conda/envs/rllab3/lib/python3.5/site-packages/torchvision/datasets/mnist.py\u001b[0m in \u001b[0;36m__init__\u001b[0;34m(self, root, train, transform, target_transform, download)\u001b[0m\n\u001b[1;32m     38\u001b[0m         \u001b[0;32mif\u001b[0m \u001b[0mself\u001b[0m\u001b[0;34m.\u001b[0m\u001b[0mtrain\u001b[0m\u001b[0;34m:\u001b[0m\u001b[0;34m\u001b[0m\u001b[0m\n\u001b[1;32m     39\u001b[0m             self.train_data, self.train_labels = torch.load(\n\u001b[0;32m---> 40\u001b[0;31m                 os.path.join(root, self.processed_folder, self.training_file))\n\u001b[0m\u001b[1;32m     41\u001b[0m         \u001b[0;32melse\u001b[0m\u001b[0;34m:\u001b[0m\u001b[0;34m\u001b[0m\u001b[0m\n\u001b[1;32m     42\u001b[0m             \u001b[0mself\u001b[0m\u001b[0;34m.\u001b[0m\u001b[0mtest_data\u001b[0m\u001b[0;34m,\u001b[0m \u001b[0mself\u001b[0m\u001b[0;34m.\u001b[0m\u001b[0mtest_labels\u001b[0m \u001b[0;34m=\u001b[0m \u001b[0mtorch\u001b[0m\u001b[0;34m.\u001b[0m\u001b[0mload\u001b[0m\u001b[0;34m(\u001b[0m\u001b[0mos\u001b[0m\u001b[0;34m.\u001b[0m\u001b[0mpath\u001b[0m\u001b[0;34m.\u001b[0m\u001b[0mjoin\u001b[0m\u001b[0;34m(\u001b[0m\u001b[0mroot\u001b[0m\u001b[0;34m,\u001b[0m \u001b[0mself\u001b[0m\u001b[0;34m.\u001b[0m\u001b[0mprocessed_folder\u001b[0m\u001b[0;34m,\u001b[0m \u001b[0mself\u001b[0m\u001b[0;34m.\u001b[0m\u001b[0mtest_file\u001b[0m\u001b[0;34m)\u001b[0m\u001b[0;34m)\u001b[0m\u001b[0;34m\u001b[0m\u001b[0m\n",
      "\u001b[0;32m~/.conda/envs/rllab3/lib/python3.5/site-packages/torch/serialization.py\u001b[0m in \u001b[0;36mload\u001b[0;34m(f, map_location, pickle_module)\u001b[0m\n\u001b[1;32m    227\u001b[0m         \u001b[0mf\u001b[0m \u001b[0;34m=\u001b[0m \u001b[0mopen\u001b[0m\u001b[0;34m(\u001b[0m\u001b[0mf\u001b[0m\u001b[0;34m,\u001b[0m \u001b[0;34m'rb'\u001b[0m\u001b[0;34m)\u001b[0m\u001b[0;34m\u001b[0m\u001b[0m\n\u001b[1;32m    228\u001b[0m     \u001b[0;32mtry\u001b[0m\u001b[0;34m:\u001b[0m\u001b[0;34m\u001b[0m\u001b[0m\n\u001b[0;32m--> 229\u001b[0;31m         \u001b[0;32mreturn\u001b[0m \u001b[0m_load\u001b[0m\u001b[0;34m(\u001b[0m\u001b[0mf\u001b[0m\u001b[0;34m,\u001b[0m \u001b[0mmap_location\u001b[0m\u001b[0;34m,\u001b[0m \u001b[0mpickle_module\u001b[0m\u001b[0;34m)\u001b[0m\u001b[0;34m\u001b[0m\u001b[0m\n\u001b[0m\u001b[1;32m    230\u001b[0m     \u001b[0;32mfinally\u001b[0m\u001b[0;34m:\u001b[0m\u001b[0;34m\u001b[0m\u001b[0m\n\u001b[1;32m    231\u001b[0m         \u001b[0;32mif\u001b[0m \u001b[0mnew_fd\u001b[0m\u001b[0;34m:\u001b[0m\u001b[0;34m\u001b[0m\u001b[0m\n",
      "\u001b[0;32m~/.conda/envs/rllab3/lib/python3.5/site-packages/torch/serialization.py\u001b[0m in \u001b[0;36m_load\u001b[0;34m(f, map_location, pickle_module)\u001b[0m\n\u001b[1;32m    375\u001b[0m     \u001b[0munpickler\u001b[0m \u001b[0;34m=\u001b[0m \u001b[0mpickle_module\u001b[0m\u001b[0;34m.\u001b[0m\u001b[0mUnpickler\u001b[0m\u001b[0;34m(\u001b[0m\u001b[0mf\u001b[0m\u001b[0;34m)\u001b[0m\u001b[0;34m\u001b[0m\u001b[0m\n\u001b[1;32m    376\u001b[0m     \u001b[0munpickler\u001b[0m\u001b[0;34m.\u001b[0m\u001b[0mpersistent_load\u001b[0m \u001b[0;34m=\u001b[0m \u001b[0mpersistent_load\u001b[0m\u001b[0;34m\u001b[0m\u001b[0m\n\u001b[0;32m--> 377\u001b[0;31m     \u001b[0mresult\u001b[0m \u001b[0;34m=\u001b[0m \u001b[0munpickler\u001b[0m\u001b[0;34m.\u001b[0m\u001b[0mload\u001b[0m\u001b[0;34m(\u001b[0m\u001b[0;34m)\u001b[0m\u001b[0;34m\u001b[0m\u001b[0m\n\u001b[0m\u001b[1;32m    378\u001b[0m \u001b[0;34m\u001b[0m\u001b[0m\n\u001b[1;32m    379\u001b[0m     \u001b[0mdeserialized_storage_keys\u001b[0m \u001b[0;34m=\u001b[0m \u001b[0mpickle_module\u001b[0m\u001b[0;34m.\u001b[0m\u001b[0mload\u001b[0m\u001b[0;34m(\u001b[0m\u001b[0mf\u001b[0m\u001b[0;34m)\u001b[0m\u001b[0;34m\u001b[0m\u001b[0m\n",
      "\u001b[0;31mAttributeError\u001b[0m: Can't get attribute '_rebuild_tensor_v2' on <module 'torch._utils' from '/home/quantumiracle/.conda/envs/rllab3/lib/python3.5/site-packages/torch/_utils.py'>"
     ]
    }
   ],
   "source": [
    "transform = transforms.Compose([\n",
    "     transforms.ToTensor(),\n",
    "     transforms.Normalize((0.5, 0.5, 0.5), (0.5, 0.5, 0.5))\n",
    "])\n",
    "\n",
    "denorm = denorm_for_tanh\n",
    "\n",
    "train_dat = datasets.MNIST(\n",
    "    \"data/\", train=True, download=True, transform=transform\n",
    ")\n",
    "test_dat = datasets.MNIST(\"data/\", train=False, transform=transform)"
   ]
  },
  {
   "cell_type": "markdown",
   "metadata": {},
   "source": [
    "### Hyper-parameter selection"
   ]
  },
  {
   "cell_type": "code",
   "execution_count": null,
   "metadata": {},
   "outputs": [],
   "source": [
    "if not os.path.exists('./CAE'):\n",
    "    os.mkdir('./CAE')\n",
    "    \n",
    "num_epochs = 20\n",
    "batch_size = 128\n",
    "learning_rate = 1e-3"
   ]
  },
  {
   "cell_type": "markdown",
   "metadata": {},
   "source": [
    "### Define the dataloaders"
   ]
  },
  {
   "cell_type": "code",
   "execution_count": null,
   "metadata": {},
   "outputs": [],
   "source": [
    "train_loader = DataLoader(train_dat, batch_size, shuffle=True)\n",
    "test_loader = DataLoader(test_dat, batch_size, shuffle=False)\n",
    "\n",
    "it = iter(test_loader)\n",
    "sample_inputs, _ = next(it)\n",
    "fixed_input = sample_inputs[:32, :, :, :]\n",
    "\n",
    "x1 = sample_inputs[0, :, :, :]\n",
    "x2 = sample_inputs[1, :, :, :]\n",
    "\n",
    "in_dim = fixed_input.shape[-1]*fixed_input.shape[-2]\n",
    "\n",
    "save_image(fixed_input, './CAE/image_original.png')"
   ]
  },
  {
   "cell_type": "markdown",
   "metadata": {},
   "source": [
    "### Define the model - CAE\n",
    "\n",
    "Complete the `encoder` and `decoder` methods in the CAE pipeline.\n",
    "\n",
    "To find an effective architecture, you can experiment with the following:\n",
    "- the number of convolutional layers\n",
    "- the kernels' sizes\n",
    "- the stride values\n",
    "- the size of the latent space layer"
   ]
  },
  {
   "cell_type": "code",
   "execution_count": null,
   "metadata": {},
   "outputs": [],
   "source": [
    "class CAE(nn.Module):\n",
    "    def __init__(self, latent_dim):\n",
    "        super(CAE, self).__init__()\n",
    "        \"\"\"\n",
    "        TODO: Define here the layers (convolutions, relu etc.) that will be\n",
    "        used in the encoder and decoder pipelines.\n",
    "        \"\"\"\n",
    "        # encoder layers\n",
    "        self.conv1 = nn.Conv2d(1, 16, 3, stride=3, padding=1)\n",
    "        self.maxp1 = nn.MaxPool2d(2, stride=2)\n",
    "        self.conv2 = nn.Conv2d(16, 8, 3, stride=2, padding=1)\n",
    "        self.maxp2 = nn.MaxPool2d(2, stride=1)\n",
    "        self.fc = nn.Linear(32, latent_dim)\n",
    "        \n",
    "        # decoder layers\n",
    "        self.deconv1 = nn.ConvTranspose2d(8, 16, 3, stride=2)\n",
    "        self.deconv2 = nn.ConvTranspose2d(16, 8, 5, stride=3, padding=1)\n",
    "        self.deconv3 = nn.ConvTranspose2d(8, 1, 2, stride=2, padding=1)\n",
    "        self.tanh = nn.Tanh()\n",
    "        \n",
    "        # relu\n",
    "        self.relu = nn.ReLU(True)\n",
    "        \n",
    "        \n",
    "    def encode(self, x):\n",
    "        \"\"\"\n",
    "        TODO: Construct the encoder pipeline here. The encoder's\n",
    "        output will be the laten space representation of x.\n",
    "        \"\"\"\n",
    "        x = self.relu(self.conv1(x)) # b, 16, 10, 10\n",
    "        x = self.maxp1(x) # b, 16, 5, 5\n",
    "        x = self.relu(self.conv2(x)) # b, 8, 3, 3\n",
    "        x = self.maxp2(x) # b, 8, 2, 2\n",
    "        x = x.view(x.size(0), -1) # b, 8*2*2\n",
    "        x = self.fc(x) # b, h_dim\n",
    "        return x\n",
    "    \n",
    "    def decode(self, z):\n",
    "        \"\"\"\n",
    "        TODO: Construct the decoder pipeline here. The decoder should \n",
    "        generate an output tensor with equal dimenssions to the\n",
    "        encoder's input tensor.\n",
    "        \"\"\"\n",
    "        z = z.view(z.size(0), 8, 2, 2) # b, 8, 2, 2\n",
    "        z = self.relu(self.deconv1(z)) # b, 16, 5, 5\n",
    "        z = self.relu(self.deconv2(z)) # b, 8, 15, 15\n",
    "        z = self.tanh(self.deconv3(z)) # b, 1, 28, 28\n",
    "        return z\n",
    "        \n",
    "        return z\n",
    "\n",
    "    def forward(self, x):\n",
    "        x = self.encode(x)\n",
    "        x = self.decode(x)\n",
    "        return x"
   ]
  },
  {
   "cell_type": "code",
   "execution_count": null,
   "metadata": {},
   "outputs": [],
   "source": [
    "# Instantiate the model\n",
    "latent_dim = 32\n",
    "cv_AE = CAE(latent_dim=latent_dim)"
   ]
  },
  {
   "cell_type": "markdown",
   "metadata": {},
   "source": [
    "### Define Loss function"
   ]
  },
  {
   "cell_type": "code",
   "execution_count": null,
   "metadata": {},
   "outputs": [],
   "source": [
    "criterion = nn.L1Loss(reduction='sum')  # can we use any other loss here?\n",
    "def loss_function_CAE(recon_x, x):\n",
    "    recon_loss = criterion(recon_x, x)\n",
    "    return recon_loss"
   ]
  },
  {
   "cell_type": "markdown",
   "metadata": {},
   "source": [
    "### Initialize Model and print number of parameters"
   ]
  },
  {
   "cell_type": "code",
   "execution_count": null,
   "metadata": {},
   "outputs": [],
   "source": [
    "model = cv_AE.to(device)\n",
    "params = sum(p.numel() for p in model.parameters() if p.requires_grad)\n",
    "print(\"Total number of parameters is: {}\".format(params))  # what would the number actually be?\n",
    "print(model)"
   ]
  },
  {
   "cell_type": "markdown",
   "metadata": {},
   "source": [
    "### Choose and initialize optimizer"
   ]
  },
  {
   "cell_type": "code",
   "execution_count": null,
   "metadata": {},
   "outputs": [],
   "source": [
    "optimizer = torch.optim.Adam(model.parameters(), lr=learning_rate)"
   ]
  },
  {
   "cell_type": "markdown",
   "metadata": {},
   "source": [
    "### Train"
   ]
  },
  {
   "cell_type": "code",
   "execution_count": null,
   "metadata": {
    "scrolled": true
   },
   "outputs": [],
   "source": [
    "model.train()\n",
    "\n",
    "for epoch in range(num_epochs):\n",
    "    train_loss = 0\n",
    "    for batch_idx, data in enumerate(train_loader):\n",
    "        img, _ = data\n",
    "        img = img.to(device)\n",
    "        optimizer.zero_grad()\n",
    "        # forward\n",
    "        recon_batch = model(img)\n",
    "        loss = loss_function_CAE(recon_batch, img)\n",
    "        # backward\n",
    "        loss.backward()\n",
    "        train_loss += loss.item()\n",
    "        optimizer.step()\n",
    "    # print out losses and save reconstructions for every epoch\n",
    "    print('epoch [{}/{}], loss:{:.4f}'.format(epoch + 1, num_epochs, train_loss / len(train_loader.dataset)))\n",
    "    recon = denorm(model(fixed_input.to(device)))\n",
    "    save_image(recon, './CAE/reconstructed_epoch_{}.png'.format(epoch))\n",
    "\n",
    "# save the model\n",
    "torch.save(model.state_dict(), './CAE/model.pth')"
   ]
  },
  {
   "cell_type": "markdown",
   "metadata": {},
   "source": [
    "### Test"
   ]
  },
  {
   "cell_type": "code",
   "execution_count": null,
   "metadata": {},
   "outputs": [],
   "source": [
    "# load the model\n",
    "model.load_state_dict(torch.load(\"./CAE/model.pth\"))\n",
    "model.eval()\n",
    "test_loss = 0\n",
    "with torch.no_grad():\n",
    "    for i, (img, _) in enumerate(test_loader):\n",
    "        img = img.to(device)\n",
    "        recon_batch = model(img)\n",
    "        test_loss += loss_function_CAE(recon_batch, img)\n",
    "    # reconstruct and save the last batch\n",
    "    recon_batch = model(recon_batch.to(device))\n",
    "    img = denorm(img.cpu())\n",
    "    # save the original last batch\n",
    "    save_image(img, './CAE/test_original.png')\n",
    "    save_image(denorm(recon_batch.cpu()), './CAE/reconstructed_test.png')\n",
    "    # loss calculated over the whole test set\n",
    "    test_loss /= len(test_loader.dataset)\n",
    "    print('Test set loss: {:.4f}'.format(test_loss))"
   ]
  },
  {
   "cell_type": "markdown",
   "metadata": {},
   "source": [
    "### Interpolations"
   ]
  },
  {
   "cell_type": "code",
   "execution_count": null,
   "metadata": {},
   "outputs": [],
   "source": [
    "# Define inpute tensors\n",
    "x1 = sample_inputs[10, :, :, :]\n",
    "x2 = sample_inputs[36, :, :, :]\n",
    "\n",
    "# Create the latent representations\n",
    "z1 = model.encode(x1.to(device)[None,:]).cpu().detach().numpy()[0]\n",
    "z2 = model.encode(x2.to(device)[None,:]).cpu().detach().numpy()[0]\n",
    "\n",
    "\"\"\"\n",
    "TODO: Find a way to create interpolated results from the CAE.\n",
    "\"\"\"\n",
    "Z = interpolate(z1, z2, num=11)\n",
    "Z = torch.FloatTensor(Z.T).cuda()\n",
    "X_hat = model.decode(Z)"
   ]
  },
  {
   "cell_type": "code",
   "execution_count": null,
   "metadata": {},
   "outputs": [],
   "source": [
    "save_image(denorm(X_hat.cpu()), './CAE/interpolation.png')"
   ]
  },
  {
   "cell_type": "markdown",
   "metadata": {},
   "source": [
    "## Part 2 - CVAE"
   ]
  },
  {
   "cell_type": "markdown",
   "metadata": {},
   "source": [
    "### Normalization"
   ]
  },
  {
   "cell_type": "code",
   "execution_count": null,
   "metadata": {},
   "outputs": [],
   "source": [
    "transform = transforms.Compose([\n",
    "     transforms.ToTensor(),\n",
    "     transforms.Normalize((0.5, 0.5, 0.5), (0.5, 0.5, 0.5))\n",
    "])\n",
    "\n",
    "denorm = denorm_for_tanh\n",
    "\n",
    "train_dat = datasets.MNIST(\n",
    "    \"data/\", train=True, download=True, transform=transform\n",
    ")\n",
    "test_dat = datasets.MNIST(\"data/\", train=False, transform=transform)"
   ]
  },
  {
   "cell_type": "markdown",
   "metadata": {},
   "source": [
    "### Hyper-parameter selection"
   ]
  },
  {
   "cell_type": "code",
   "execution_count": null,
   "metadata": {},
   "outputs": [],
   "source": [
    "if not os.path.exists('./CVAE'):\n",
    "    os.mkdir('./CVAE')\n",
    "    \n",
    "num_epochs = 20\n",
    "batch_size = 128\n",
    "learning_rate = 1e-3"
   ]
  },
  {
   "cell_type": "markdown",
   "metadata": {},
   "source": [
    "### Define the dataloaders"
   ]
  },
  {
   "cell_type": "code",
   "execution_count": null,
   "metadata": {},
   "outputs": [],
   "source": [
    "train_loader = DataLoader(train_dat, batch_size, shuffle=True)\n",
    "test_loader = DataLoader(test_dat, batch_size, shuffle=False)\n",
    "\n",
    "it = iter(test_loader)\n",
    "sample_inputs, _ = next(it)\n",
    "fixed_input = sample_inputs[:32, :, :, :]\n",
    "\n",
    "in_dim = fixed_input.shape[-1]*fixed_input.shape[-2]\n",
    "\n",
    "save_image(fixed_input, './CVAE/image_original.png')"
   ]
  },
  {
   "cell_type": "markdown",
   "metadata": {},
   "source": [
    "### Define the model - CVAE\n",
    "\n",
    "Complete the `encoder` and `decoder` methods in the CVAE pipeline.\n",
    "\n",
    "To find an effective architecture, you can experiment with the following:\n",
    "- the number of convolutional layers\n",
    "- the kernels' sizes\n",
    "- the stride values\n",
    "- the size of the latent space layer"
   ]
  },
  {
   "cell_type": "code",
   "execution_count": null,
   "metadata": {},
   "outputs": [],
   "source": [
    "# For the CVAE use the same architecture as in the CAE. \n",
    "# You also need to implement reparameterization (also included in tutorial3)\n",
    "\n",
    "class CVAE(nn.Module):\n",
    "    def __init__(self, latent_dim):\n",
    "        super(CVAE, self).__init__()\n",
    "        \"\"\"\n",
    "        TODO: Define here the layers (convolutions, relu etc.) that will be\n",
    "        used in the encoder and decoder pipelines.\n",
    "        \"\"\"\n",
    "        \n",
    "        \n",
    "    def encode(self, x):\n",
    "        \"\"\"\n",
    "        TODO: Construct the encoder pipeline here.        \n",
    "        \"\"\"\n",
    "\n",
    "        return mu, logvar\n",
    "\n",
    "    def reparametrize(self, mu, logvar):\n",
    "        \"\"\"\n",
    "        TODO: Implement reparameterization here.\n",
    "        \"\"\"\n",
    "\n",
    "        return z\n",
    "\n",
    "    def decode(self, z):\n",
    "        \"\"\"\n",
    "        TODO: Construct the decoder pipeline here.        \n",
    "        \"\"\"\n",
    "\n",
    "        return z\n",
    " \n",
    "    def forward(self, x):\n",
    "        mu, logvar = self.encode(x)\n",
    "        z = self.reparametrize(mu, logvar)\n",
    "        x_hat = self.decode(z)\n",
    "        return x_hat, mu, logvar"
   ]
  },
  {
   "cell_type": "code",
   "execution_count": null,
   "metadata": {},
   "outputs": [],
   "source": [
    "# Instantiate the model\n",
    "latent_dim = \n",
    "cv_VAE = CVAE(latent_dim =latent_dim)"
   ]
  },
  {
   "cell_type": "markdown",
   "metadata": {},
   "source": [
    "### Define Loss function"
   ]
  },
  {
   "cell_type": "code",
   "execution_count": null,
   "metadata": {},
   "outputs": [],
   "source": [
    "# Reconstruction + KL divergence losses summed over all elements and batch\n",
    "def loss_function_VAE(recon_x, x, mu, logvar):\n",
    "    BCE = F.binary_cross_entropy(recon_x, x, size_average=False)\n",
    "    KLD = -0.5 * torch.sum(1 + logvar - mu.pow(2) - logvar.exp())\n",
    "    return BCE + KLD"
   ]
  },
  {
   "cell_type": "markdown",
   "metadata": {},
   "source": [
    "### Initialize Model and print number of parameters"
   ]
  },
  {
   "cell_type": "code",
   "execution_count": null,
   "metadata": {},
   "outputs": [],
   "source": [
    "model = cv_AE.to(device)\n",
    "params = sum(p.numel() for p in model.parameters() if p.requires_grad)\n",
    "print(\"Total number of parameters is: {}\".format(params))  # what would the number actually be?\n",
    "print(model)"
   ]
  },
  {
   "cell_type": "markdown",
   "metadata": {},
   "source": [
    "### Choose and initialize optimizer"
   ]
  },
  {
   "cell_type": "code",
   "execution_count": null,
   "metadata": {},
   "outputs": [],
   "source": [
    "optimizer = torch.optim.Adam(model.parameters(), lr=learning_rate)"
   ]
  },
  {
   "cell_type": "markdown",
   "metadata": {},
   "source": [
    "### Train"
   ]
  },
  {
   "cell_type": "code",
   "execution_count": null,
   "metadata": {
    "scrolled": true
   },
   "outputs": [],
   "source": [
    "model.train()\n",
    "\n",
    "for epoch in range(num_epochs):\n",
    "    train_loss = 0\n",
    "    for batch_idx, data in enumerate(train_loader):\n",
    "        img, _ = data\n",
    "        img = img.to(device)\n",
    "        optimizer.zero_grad()\n",
    "        # forward\n",
    "        recon_batch = model(img)\n",
    "        loss = loss_function_CAE(recon_batch, img)\n",
    "        # backward\n",
    "        loss.backward()\n",
    "        train_loss += loss.item()\n",
    "        optimizer.step()\n",
    "    # print out losses and save reconstructions for every epoch\n",
    "    print('epoch [{}/{}], loss:{:.4f}'.format(epoch + 1, num_epochs, train_loss / len(train_loader.dataset)))\n",
    "    recon = denorm(model(fixed_input.to(device)))\n",
    "    save_image(recon, './CVAE/reconstructed_epoch_{}.png'.format(epoch))\n",
    "\n",
    "# save the model\n",
    "torch.save(model.state_dict(), './CVAE/model.pth')"
   ]
  },
  {
   "cell_type": "markdown",
   "metadata": {},
   "source": [
    "### Test"
   ]
  },
  {
   "cell_type": "code",
   "execution_count": null,
   "metadata": {},
   "outputs": [],
   "source": [
    "# load the model\n",
    "model.load_state_dict(torch.load(\"./CVAE/model.pth\"))\n",
    "model.eval()\n",
    "test_loss = 0\n",
    "with torch.no_grad():\n",
    "    for i, (img, _) in enumerate(test_loader):\n",
    "        img = img.to(device)\n",
    "        recon_batch = model(img)\n",
    "        test_loss += loss_function_CAE(recon_batch, img)\n",
    "    # reconstruct and save the last batch\n",
    "    recon_batch = model(recon_batch.to(device))\n",
    "    img = denorm(img.cpu())\n",
    "    # save the original last batch\n",
    "    save_image(img, './CVAE/test_original.png')\n",
    "    save_image(denorm(recon_batch.cpu()), './CVAE/reconstructed_test.png')\n",
    "    # loss calculated over the whole test set\n",
    "    test_loss /= len(test_loader.dataset)\n",
    "    print('Test set loss: {:.4f}'.format(test_loss))"
   ]
  },
  {
   "cell_type": "markdown",
   "metadata": {},
   "source": [
    "### Sample"
   ]
  },
  {
   "cell_type": "markdown",
   "metadata": {},
   "source": [
    "Sample the latent space and use the `decoder` to generate resutls."
   ]
  },
  {
   "cell_type": "code",
   "execution_count": null,
   "metadata": {},
   "outputs": [],
   "source": [
    "model.load_state_dict(torch.load(\"./CVAE/model.pth\"))\n",
    "model.eval()\n",
    "with torch.no_grad():\n",
    "    \"\"\"\n",
    "    TODO: Investigate how to sample the latent space of the CVAE.\n",
    "    \"\"\"\n",
    "    z = torch.randn(32, latent_dim).to(device)\n",
    "    sample = model.decode(z)\n",
    "    save_image(denorm(sample).cpu(), './CVAE/samples_' + '.png')"
   ]
  },
  {
   "cell_type": "markdown",
   "metadata": {},
   "source": [
    "### Interpolations"
   ]
  },
  {
   "cell_type": "code",
   "execution_count": null,
   "metadata": {},
   "outputs": [],
   "source": [
    "# Define inpute tensors\n",
    "x1 = sample_inputs[10, :, :, :]\n",
    "x2 = sample_inputs[36, :, :, :]\n",
    "\n",
    "# Create the latent representations\n",
    "z1 = model.encode(x1.to(device)[None,:]).cpu().detach().numpy()[0]\n",
    "z2 = model.encode(x2.to(device)[None,:]).cpu().detach().numpy()[0]\n",
    "\n",
    "\"\"\"\n",
    "TODO: Find a way to create interpolated results from the CAE.\n",
    "\"\"\"\n",
    "Z = interpolate(z1, z2, num=11)\n",
    "Z = torch.FloatTensor(Z.T).cuda()\n",
    "X_hat = model.decode(Z)"
   ]
  },
  {
   "cell_type": "code",
   "execution_count": null,
   "metadata": {},
   "outputs": [],
   "source": [
    "save_image(denorm(X_hat.cpu()), './CAE/interpolation.png')"
   ]
  }
 ],
 "metadata": {
  "kernelspec": {
   "display_name": "Python 3",
   "language": "python",
   "name": "python3"
  },
  "language_info": {
   "codemirror_mode": {
    "name": "ipython",
    "version": 3
   },
   "file_extension": ".py",
   "mimetype": "text/x-python",
   "name": "python",
   "nbconvert_exporter": "python",
   "pygments_lexer": "ipython3",
   "version": "3.5.2"
  }
 },
 "nbformat": 4,
 "nbformat_minor": 2
}
