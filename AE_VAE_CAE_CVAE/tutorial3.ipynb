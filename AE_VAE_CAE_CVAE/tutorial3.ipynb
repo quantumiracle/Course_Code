{
 "cells": [
  {
   "cell_type": "markdown",
   "metadata": {},
   "source": [
    "# CO460 - Deep Learning - Tutorial 3"
   ]
  },
  {
   "cell_type": "markdown",
   "metadata": {},
   "source": [
    "## Introduction\n",
    "\n",
    "In this tutorial, there are two parts:\n",
    "\n",
    "First:\n",
    "- A simple single layer autoencoder (AE) \n",
    "- A simple variational autoencoder (VAE)\n",
    "\n",
    "Second:\n",
    "- Exercise and experimentations with Convolutional AE's\n",
    "- Exercise and experimentations with Convolutional VAE's"
   ]
  },
  {
   "cell_type": "code",
   "execution_count": 1,
   "metadata": {
    "scrolled": true
   },
   "outputs": [],
   "source": [
    "import os\n",
    "import torch\n",
    "import torch.nn as nn\n",
    "import torch.optim as optim\n",
    "from torch.utils.data import DataLoader\n",
    "from torchvision import datasets, transforms\n",
    "from torchvision.utils import save_image, make_grid\n",
    "import torch.nn.functional as F\n",
    "from utils import *\n",
    "import matplotlib.pyplot as plt\n",
    "import numpy as np"
   ]
  },
  {
   "cell_type": "markdown",
   "metadata": {},
   "source": [
    "### Device selection"
   ]
  },
  {
   "cell_type": "code",
   "execution_count": 2,
   "metadata": {},
   "outputs": [
    {
     "name": "stdout",
     "output_type": "stream",
     "text": [
      "cuda:0\n"
     ]
    }
   ],
   "source": [
    "GPU = True\n",
    "device_idx = 0\n",
    "if GPU:\n",
    "    device = torch.device(\"cuda:\" + str(device_idx) if torch.cuda.is_available() else \"cpu\")\n",
    "else:\n",
    "    device = torch.device(\"cpu\")\n",
    "print(device)"
   ]
  },
  {
   "cell_type": "markdown",
   "metadata": {},
   "source": [
    "### Reproducibility"
   ]
  },
  {
   "cell_type": "code",
   "execution_count": 3,
   "metadata": {},
   "outputs": [
    {
     "data": {
      "text/plain": [
       "<torch._C.Generator at 0x7fa282680510>"
      ]
     },
     "execution_count": 3,
     "metadata": {},
     "output_type": "execute_result"
    }
   ],
   "source": [
    "# We set a random seed to ensure that your results are reproducible.\n",
    "if torch.cuda.is_available():\n",
    "    torch.backends.cudnn.deterministic = True\n",
    "torch.manual_seed(0)"
   ]
  },
  {
   "cell_type": "markdown",
   "metadata": {},
   "source": [
    "## Part I - Autoencoders"
   ]
  },
  {
   "cell_type": "markdown",
   "metadata": {},
   "source": [
    "###  Normalization: \n",
    "\n",
    "$ x_{norm} = \\frac{x-\\mu}{\\sigma} $\n",
    "\n",
    "_Thus_ :\n",
    "$ \\min{x_{norm}} = \\frac{\\min{(x)}-\\mu}{\\sigma} = \\frac{0-0.5}{0.5} = -1 $\n",
    "\n",
    "_Similarly_:\n",
    "\n",
    "$ \\max{(x_{norm})} = ... = 1 $\n",
    "\n",
    "* Input before normalization for MNIST dataset $\\in [0,1]$\n",
    "* Input after normalization $\\in [-1,1] $\n",
    "* Output should span the same interval $ \\rightarrow$ Activation function of the output layer should be chosen carfeully (which one should we be using here?)"
   ]
  },
  {
   "cell_type": "code",
   "execution_count": 4,
   "metadata": {},
   "outputs": [
    {
     "name": "stdout",
     "output_type": "stream",
     "text": [
      "Downloading http://yann.lecun.com/exdb/mnist/train-images-idx3-ubyte.gz\n",
      "Downloading http://yann.lecun.com/exdb/mnist/train-labels-idx1-ubyte.gz\n",
      "Downloading http://yann.lecun.com/exdb/mnist/t10k-images-idx3-ubyte.gz\n",
      "Downloading http://yann.lecun.com/exdb/mnist/t10k-labels-idx1-ubyte.gz\n",
      "Processing...\n",
      "Done!\n"
     ]
    }
   ],
   "source": [
    "transform = transforms.Compose([\n",
    "     transforms.ToTensor(),\n",
    "     transforms.Normalize(mean=(0.5, 0.5, 0.5), std=(0.5, 0.5, 0.5))\n",
    "])\n",
    "\n",
    "denorm = denorm_for_tanh\n",
    "\n",
    "train_dat = datasets.MNIST(\n",
    "    \"data/\", train=True, download=True, transform=transform\n",
    ")\n",
    "test_dat = datasets.MNIST(\"./data/\", train=False, transform=transform)"
   ]
  },
  {
   "cell_type": "markdown",
   "metadata": {},
   "source": [
    "### Hyper-parameter selection"
   ]
  },
  {
   "cell_type": "code",
   "execution_count": 5,
   "metadata": {},
   "outputs": [],
   "source": [
    "if not os.path.exists('./single_layer_AE'):\n",
    "    os.mkdir('./single_layer_AE')\n",
    "    \n",
    "num_epochs = 5\n",
    "batch_size = 128\n",
    "learning_rate = 1e-3\n",
    "latent_dim = 32"
   ]
  },
  {
   "cell_type": "markdown",
   "metadata": {},
   "source": [
    "### Define the dataloaders"
   ]
  },
  {
   "cell_type": "code",
   "execution_count": 6,
   "metadata": {},
   "outputs": [],
   "source": [
    "train_loader = DataLoader(train_dat, batch_size, shuffle=True, num_workers=16)\n",
    "test_loader = DataLoader(test_dat, batch_size, shuffle=False, num_workers=16)\n",
    "\n",
    "it = iter(test_loader)\n",
    "sample_inputs, _ = next(it)\n",
    "fixed_input = sample_inputs[:32, :, :, :]\n",
    "\n",
    "in_dim = fixed_input.shape[-1] * fixed_input.shape[-2]\n",
    "\n",
    "save_image(fixed_input, './single_layer_AE/image_original.png')"
   ]
  },
  {
   "cell_type": "markdown",
   "metadata": {},
   "source": [
    "### Define the model\n",
    "\n",
    "#### Single layer AE structure\n",
    "\n",
    "<img src=\"imgs/single_layer_AE.png\" width=\"300\" />"
   ]
  },
  {
   "cell_type": "code",
   "execution_count": 7,
   "metadata": {},
   "outputs": [],
   "source": [
    "class AE_single(nn.Module):\n",
    "    def __init__(self, in_dim=784, h_dim=32):\n",
    "        super(AE_single, self).__init__()\n",
    "\n",
    "        self.encoder = nn.Linear(in_dim, h_dim)\n",
    "\n",
    "        self.decoder = nn.Sequential(\n",
    "            nn.Linear(h_dim, in_dim),\n",
    "            nn.Tanh()\n",
    "            )\n",
    "        \n",
    "    def encode(self, x):\n",
    "        z = self.encoder(x)\n",
    "        return z\n",
    "    \n",
    "    def decode(self, z):\n",
    "        x_recon = self.decoder(z)\n",
    "        return x_recon\n",
    "\n",
    "    def forward(self, x):\n",
    "        z = self.encode(x)\n",
    "        x_recon = self.decode(z)\n",
    "        return x_recon"
   ]
  },
  {
   "cell_type": "code",
   "execution_count": 8,
   "metadata": {},
   "outputs": [],
   "source": [
    "single_layer_AE = AE_single(h_dim=latent_dim)"
   ]
  },
  {
   "cell_type": "markdown",
   "metadata": {},
   "source": [
    "### Define Loss function"
   ]
  },
  {
   "cell_type": "code",
   "execution_count": 9,
   "metadata": {},
   "outputs": [],
   "source": [
    "criterion = nn.L1Loss(reduction='sum')  # can we use any other loss here?\n",
    "def loss_function_AE(recon_x, x):\n",
    "    recon_loss = criterion(recon_x, x)\n",
    "    return recon_loss"
   ]
  },
  {
   "cell_type": "markdown",
   "metadata": {},
   "source": [
    "### Initialize Model and print number of parameters"
   ]
  },
  {
   "cell_type": "code",
   "execution_count": 10,
   "metadata": {},
   "outputs": [
    {
     "name": "stdout",
     "output_type": "stream",
     "text": [
      "Total number of parameters is: 50992\n",
      "AE_single(\n",
      "  (encoder): Linear(in_features=784, out_features=32, bias=True)\n",
      "  (decoder): Sequential(\n",
      "    (0): Linear(in_features=32, out_features=784, bias=True)\n",
      "    (1): Tanh()\n",
      "  )\n",
      ")\n"
     ]
    }
   ],
   "source": [
    "model = single_layer_AE.to(device)\n",
    "params = sum(p.numel() for p in model.parameters() if p.requires_grad)\n",
    "print(\"Total number of parameters is: {}\".format(params))  # what would the number actually be\n",
    "print(model)"
   ]
  },
  {
   "cell_type": "markdown",
   "metadata": {},
   "source": [
    "### Choose and initialize optimizer"
   ]
  },
  {
   "cell_type": "code",
   "execution_count": 11,
   "metadata": {},
   "outputs": [],
   "source": [
    "optimizer = torch.optim.Adam(model.parameters(), lr=learning_rate)"
   ]
  },
  {
   "cell_type": "markdown",
   "metadata": {},
   "source": [
    " ### Train"
   ]
  },
  {
   "cell_type": "code",
   "execution_count": 12,
   "metadata": {
    "scrolled": true
   },
   "outputs": [
    {
     "name": "stdout",
     "output_type": "stream",
     "text": [
      "epoch [1/10], loss:180.3272\n",
      "epoch [2/10], loss:110.0231\n",
      "epoch [3/10], loss:91.4948\n",
      "epoch [4/10], loss:80.5592\n",
      "epoch [5/10], loss:71.6743\n",
      "epoch [6/10], loss:64.9801\n",
      "epoch [7/10], loss:59.9988\n",
      "epoch [8/10], loss:56.8939\n",
      "epoch [9/10], loss:54.3684\n",
      "epoch [10/10], loss:51.6395\n"
     ]
    }
   ],
   "source": [
    "model.train()\n",
    "\n",
    "num_epochs = 10\n",
    "for epoch in range(num_epochs):\n",
    "    train_loss = 0\n",
    "    for batch_idx, data in enumerate(train_loader):\n",
    "        img, _ = data\n",
    "        img = img.view(img.size(0), -1)\n",
    "        img = img.to(device)\n",
    "        optimizer.zero_grad()\n",
    "        # forward\n",
    "        recon_batch = model(img)\n",
    "        loss = loss_function_AE(recon_batch, img)\n",
    "        # backward\n",
    "        loss.backward()\n",
    "        train_loss += loss.item()\n",
    "        optimizer.step()\n",
    "    # print out losses and save reconstructions for every epoch\n",
    "    print('epoch [{}/{}], loss:{:.4f}'.format(epoch + 1, num_epochs, train_loss / len(train_loader.dataset)))\n",
    "    recon = model(fixed_input.view(fixed_input.size(0), -1).to(device))\n",
    "    recon = denorm(recon.cpu())\n",
    "    save_image(recon, './single_layer_AE/reconstructed_epoch_{}.png'.format(epoch))\n",
    "    # save the model\n",
    "    torch.save(model.state_dict(), './single_layer_AE/model.pth')"
   ]
  },
  {
   "cell_type": "markdown",
   "metadata": {},
   "source": [
    "### Test"
   ]
  },
  {
   "cell_type": "code",
   "execution_count": 13,
   "metadata": {
    "scrolled": true
   },
   "outputs": [
    {
     "name": "stdout",
     "output_type": "stream",
     "text": [
      "Test set loss: 50.3125\n"
     ]
    }
   ],
   "source": [
    "# load the model\n",
    "model.load_state_dict(torch.load(\"./single_layer_AE/model.pth\"))\n",
    "model.eval()\n",
    "test_loss = 0\n",
    "with torch.no_grad():\n",
    "    for i, (img, _) in enumerate(test_loader):\n",
    "        img = img.view(img.size(0), -1)\n",
    "        img = img.to(device)\n",
    "        recon_batch = model(img)\n",
    "        test_loss += loss_function_AE(recon_batch, img)\n",
    "    # reconstruct and save the last batch\n",
    "    recon_batch = model(recon_batch.view(recon_batch.size(0), -1).to(device))\n",
    "    img = denorm(img.cpu())\n",
    "    # save the original last batch\n",
    "    save_image(img, './single_layer_AE/test_original.png')\n",
    "    save_image(denorm(recon_batch.cpu()), './single_layer_AE/reconstructed_test.png')\n",
    "    # loss calculated over the whole test set\n",
    "    test_loss /= len(test_loader.dataset)\n",
    "    print('Test set loss: {:.4f}'.format(test_loss))"
   ]
  },
  {
   "cell_type": "markdown",
   "metadata": {},
   "source": [
    "### Visualizations"
   ]
  },
  {
   "cell_type": "code",
   "execution_count": 14,
   "metadata": {
    "scrolled": true
   },
   "outputs": [
    {
     "data": {
      "image/png": "[encoded data removed]",
      "text/plain": [
       "<Figure size 432x288 with 1 Axes>"
      ]
     },
     "metadata": {
      "needs_background": "light"
     },
     "output_type": "display_data"
    }
   ],
   "source": [
    "# visualize the original images of the last batch of the test set\n",
    "img = make_grid(img, nrow=4, padding=2, normalize=False, range=None, scale_each=False, pad_value=0)\n",
    "show(img)"
   ]
  },
  {
   "cell_type": "code",
   "execution_count": 15,
   "metadata": {
    "scrolled": true
   },
   "outputs": [
    {
     "name": "stdout",
     "output_type": "stream",
     "text": [
      "torch.Size([16, 1, 28, 28])\n"
     ]
    },
    {
     "data": {
      "image/png": "[encoded data removed]",
      "text/plain": [
       "<Figure size 432x288 with 1 Axes>"
      ]
     },
     "metadata": {
      "needs_background": "light"
     },
     "output_type": "display_data"
    }
   ],
   "source": [
    "# visualize the reconstructed images of the last batch of test set\n",
    "recon_batch_denorm = denorm(recon_batch.view(-1, 1, 28, 28).cpu())\n",
    "print(recon_batch_denorm.size())\n",
    "recon_batch_denorm = make_grid(recon_batch_denorm, nrow=4, padding=2, normalize=False, range=None, scale_each=False, pad_value=0)\n",
    "show(recon_batch_denorm)"
   ]
  },
  {
   "cell_type": "markdown",
   "metadata": {},
   "source": [
    "## Variational Autoencoders"
   ]
  },
  {
   "cell_type": "code",
   "execution_count": 16,
   "metadata": {},
   "outputs": [],
   "source": [
    "transform = transforms.Compose([\n",
    "     transforms.ToTensor(),lambda x: x>0, lambda x: x.type(torch.FloatTensor)\n",
    "])\n",
    "\n",
    "denorm = denorm_for_binary\n",
    "\n",
    "# transform = transforms.Compose([\n",
    "#      transforms.ToTensor()\n",
    "# ])\n",
    "\n",
    "# denorm = denorm_for_sigmoid\n",
    "train_dat = datasets.MNIST(\n",
    "    \"data/\", train=True, download=True, transform=transform\n",
    ")\n",
    "test_dat = datasets.MNIST(\"data/\", train=False, transform=transform)"
   ]
  },
  {
   "cell_type": "markdown",
   "metadata": {},
   "source": [
    "### Hyper-parameter selection"
   ]
  },
  {
   "cell_type": "code",
   "execution_count": 17,
   "metadata": {},
   "outputs": [],
   "source": [
    "if not os.path.exists('./VAE'):\n",
    "    os.mkdir('./VAE')\n",
    "    \n",
    "num_epochs = 100\n",
    "batch_size = 128\n",
    "learning_rate = 1e-3\n",
    "latent_dim = 32\n",
    "intermediate_dim = 256"
   ]
  },
  {
   "cell_type": "markdown",
   "metadata": {},
   "source": [
    "### Define the data loaders"
   ]
  },
  {
   "cell_type": "code",
   "execution_count": 18,
   "metadata": {},
   "outputs": [],
   "source": [
    "train_loader = DataLoader(train_dat, batch_size, shuffle=True)\n",
    "test_loader = DataLoader(test_dat, batch_size, shuffle=False)\n",
    "\n",
    "it = iter(test_loader)\n",
    "sample_inputs, _ = next(it)\n",
    "fixed_input = sample_inputs[:32, :, :, :]\n",
    "\n",
    "in_dim = fixed_input.shape[-1]*fixed_input.shape[-2]\n",
    "\n",
    "save_image(fixed_input, './VAE/image_original.png')"
   ]
  },
  {
   "cell_type": "markdown",
   "metadata": {},
   "source": [
    "## Define the model\n",
    "\n",
    "### Reminder\n",
    "\n",
    "We want to maximize the probability of our training data under the parameters of our model:\n",
    "\n",
    "So, for a data sample $x_i$\n",
    "\n",
    "$ \\log{p(x_i;\\theta)} = ... = \\log{p(x_i|z_i;\\theta)} - D_{KL}(q_\\phi(z_i|x_i)\\|p_\\theta(z_i)) + D_{KL}(q_\\phi(z_i|x_i)\\|p_\\theta(z_i|x_i)) \\geq \\log{p(x_i|z_i;\\theta)} - D_{KL}(q_\\phi(z_i|x_i)\\|p_\\theta(z_i)) $\n",
    "\n",
    "And for the entire dataset:\n",
    "$ \\log{\\mathbb{P}[X;\\theta]} = \\sum_i{\\log{p(x_i;\\theta)}} \\geq \\sum_i{\\log{p(x_i|z_i;\\theta)} - D_{KL}(q_\\phi(z_i|x_i)\\|p_\\theta(z_i))} $\n",
    "\n",
    "* First term: \n",
    "\n",
    "**If continuous variables**:\n",
    "\n",
    "Under gaussianity assumptions, The probabilistic decoder predicts the mean and the variance of the gaussian.\n",
    "\n",
    " $\\sum_i\\log{p(x_i|z_i;\\theta)}=\\sum_i\\log{\\mathcal{N}(\\mu_i,\\sigma_i^2I)}= \n",
    "\\sum_i(-\\frac{\\|x_i-\\mu_i\\|_2^2}{2\\sigma_i^2} - \\frac{1}{2}\\log{|2\\pi \\sigma_i^2I|})$\n",
    "\n",
    "Usually we omit the prediction of the variance and predict only the mean. Thus, we are minimizing:\n",
    "\n",
    "$\\sum_i\\|x_i-\\mu_i\\|_2^2 = \\sum_i\\|x_i-f(z_i)\\|_2^2$ : **Mean squared error**\n",
    "\n",
    "\n",
    "**If  binary variables**:\n",
    "\n",
    "Under bernoulli assumptions, the probabilistic decoder predicts the probability of a sample being equal to 1.\n",
    "\n",
    "$\\sum_i\\log{p(x_i|z_i;\\theta)}=\\sum_i\\log{\\mathcal{Be}(f(z_i))}= $. Thus, we are minimizing:\n",
    "\n",
    "$\\sum_i(x_i\\log{f(z_i)}+(1-x_i)\\log{(1-f(z_i))})$, where $x\\in\\{0,1\\}$ : **Binary cross entropy**\n",
    "\n",
    "* Second term: if $  z_i\\sim\\mathcal{N}(0,I) $, then:\n",
    "\n",
    "$$ - D_{KL}(q_\\phi(z_i|x_i)\\|p_\\theta(z_i)) = \\frac{1}{2}\\sum_{j=1}^J{(1+log(\\sigma_j^2)-\\mu_j^2+\\sigma_j^2)} $$, where $J$ the dimensionality of the latent space\n",
    "\n",
    "(prove it for homework!)\n",
    "\n",
    "1. **Encoder**:\n",
    "Input $\\rightarrow$ Hidden Layers $\\rightarrow$ $\\mu_j,  \\log(\\sigma_j^2) = 2\\log(\\sigma_j) \\, , \\forall j$ \n",
    "2. **Decoder**:\n",
    "$\\mu_j, \\log(\\sigma_j^2) \\rightarrow$ **Sample**: $z_j = \\epsilon_j * \\sigma_j+\\mu_j = \\epsilon * e^{\\frac{1}{2}\\log(\\sigma_j^2)}+\\mu_j \\rightarrow$  Hidden Layers $ \\rightarrow$Output"
   ]
  },
  {
   "cell_type": "code",
   "execution_count": 19,
   "metadata": {},
   "outputs": [],
   "source": [
    "class VAE_three(nn.Module):\n",
    "    def __init__(self, x_dim, h_dim1, h_dim2, latent_dim):\n",
    "        super(VAE_three, self).__init__()\n",
    "        \n",
    "        # encoder part\n",
    "        self.fc1 = nn.Linear(x_dim, h_dim1)\n",
    "        self.fc2 = nn.Linear(h_dim1, h_dim2)\n",
    "        self.fc_mu = nn.Linear(h_dim2, latent_dim)\n",
    "        self.fc_std = nn.Linear(h_dim2, latent_dim)\n",
    "        # decoder part\n",
    "        self.fc4 = nn.Linear(latent_dim, h_dim2)\n",
    "        self.fc5 = nn.Linear(h_dim2, h_dim1)\n",
    "        self.fc6 = nn.Linear(h_dim1, x_dim)\n",
    "        \n",
    "    def encode(self, x):\n",
    "        h = F.relu(self.fc1(x))\n",
    "        h = F.relu(self.fc2(h))\n",
    "        mu = self.fc_mu(h)\n",
    "        logvar = self.fc_std(h)\n",
    "        return mu, logvar\n",
    "    \n",
    "    def reparametrize(self, mu, logvar):\n",
    "        std = torch.exp(0.5*logvar)\n",
    "        eps = torch.randn_like(std)\n",
    "        z = eps*std+mu\n",
    "        return z\n",
    "        \n",
    "    def decode(self, z):\n",
    "        h = F.relu(self.fc4(z))\n",
    "        h = F.relu(self.fc5(h))\n",
    "        out = F.sigmoid(self.fc6(h)) \n",
    "        return out\n",
    "    \n",
    "    def forward(self, x):\n",
    "        mu, logvar = self.encode(x)\n",
    "        z = self.reparametrize(mu, logvar)\n",
    "        x_hat = self.decode(z)\n",
    "        return x_hat, mu, logvar\n",
    "    \n",
    "# single-layer model\n",
    "\n",
    "class VAE_single(nn.Module): \n",
    "    def __init__(self, in_dim = 784, latent_dim =32):\n",
    "        super(VAE_single, self).__init__()\n",
    "\n",
    "        # Encoder\n",
    "        self.fc_mu = nn.Linear(in_dim, latent_dim)\n",
    "        self.fc_std = nn.Linear(in_dim, latent_dim)\n",
    "        \n",
    "        self.fc1 = nn.Linear(latent_dim, in_dim)\n",
    "        self.sigmoid = nn.Sigmoid()\n",
    "\n",
    "    def encode(self, x):\n",
    "        mu = self.fc_mu(x)\n",
    "        logvar = self.fc_std(x)\n",
    "        return mu, logvar\n",
    "\n",
    "    def reparametrize(self, mu, logvar):\n",
    "        std = torch.exp(0.5*logvar)\n",
    "        eps = torch.randn_like(std)\n",
    "        z = eps*std + mu\n",
    "        return z\n",
    "\n",
    "    def decode(self, z):\n",
    "        out = self.sigmoid(self.fc1(z))\n",
    "        return out\n",
    " \n",
    "    def forward(self, x):\n",
    "        mu, logvar = self.encode(x)\n",
    "        z = self.reparametrize(mu, logvar)\n",
    "        x_hat = self.decode(z)\n",
    "        return x_hat, mu, logvar"
   ]
  },
  {
   "cell_type": "code",
   "execution_count": 20,
   "metadata": {},
   "outputs": [],
   "source": [
    "single_layer_VAE = VAE_single(in_dim = in_dim, latent_dim =latent_dim)\n",
    "three_layer_VAE = VAE_three(x_dim=in_dim, h_dim1= 2*intermediate_dim, h_dim2=intermediate_dim, latent_dim=2)"
   ]
  },
  {
   "cell_type": "markdown",
   "metadata": {},
   "source": [
    "### Define loss function"
   ]
  },
  {
   "cell_type": "code",
   "execution_count": 21,
   "metadata": {},
   "outputs": [],
   "source": [
    "\n",
    "# Reconstruction + KL divergence losses summed over all elements and batch\n",
    "def loss_function_VAE(recon_x, x, mu, logvar):\n",
    "    BCE = F.binary_cross_entropy(recon_x, x, size_average=False)\n",
    "    KLD = -0.5 * torch.sum(1 + logvar - mu.pow(2) - logvar.exp())\n",
    "\n",
    "    return BCE + KLD"
   ]
  },
  {
   "cell_type": "markdown",
   "metadata": {},
   "source": [
    "### Initialize model and print number of parameters"
   ]
  },
  {
   "cell_type": "code",
   "execution_count": 22,
   "metadata": {},
   "outputs": [
    {
     "name": "stdout",
     "output_type": "stream",
     "text": [
      "Total number of parameters is: 1068820\n",
      "VAE_three(\n",
      "  (fc1): Linear(in_features=784, out_features=512, bias=True)\n",
      "  (fc2): Linear(in_features=512, out_features=256, bias=True)\n",
      "  (fc_mu): Linear(in_features=256, out_features=2, bias=True)\n",
      "  (fc_std): Linear(in_features=256, out_features=2, bias=True)\n",
      "  (fc4): Linear(in_features=2, out_features=256, bias=True)\n",
      "  (fc5): Linear(in_features=256, out_features=512, bias=True)\n",
      "  (fc6): Linear(in_features=512, out_features=784, bias=True)\n",
      ")\n"
     ]
    }
   ],
   "source": [
    "# model = single_layer_VAE.to(device)\n",
    "model = three_layer_VAE.to(device)\n",
    "params = sum(p.numel() for p in model.parameters() if p.requires_grad)\n",
    "print(\"Total number of parameters is: {}\".format(params)) \n",
    "print(model)"
   ]
  },
  {
   "cell_type": "markdown",
   "metadata": {},
   "source": [
    "### Choose and initialize optimizer"
   ]
  },
  {
   "cell_type": "code",
   "execution_count": 23,
   "metadata": {},
   "outputs": [],
   "source": [
    "optimizer = torch.optim.Adam(model.parameters(), lr=learning_rate)"
   ]
  },
  {
   "cell_type": "markdown",
   "metadata": {},
   "source": [
    "### Train"
   ]
  },
  {
   "cell_type": "code",
   "execution_count": 24,
   "metadata": {},
   "outputs": [
    {
     "name": "stderr",
     "output_type": "stream",
     "text": [
      "/home/gbouritsas/anaconda3/envs/deeplab-pytorch/lib/python3.6/site-packages/torch/nn/functional.py:1332: UserWarning: nn.functional.sigmoid is deprecated. Use torch.sigmoid instead.\n",
      "  warnings.warn(\"nn.functional.sigmoid is deprecated. Use torch.sigmoid instead.\")\n",
      "/home/gbouritsas/anaconda3/envs/deeplab-pytorch/lib/python3.6/site-packages/torch/nn/_reduction.py:49: UserWarning: size_average and reduce args will be deprecated, please use reduction='sum' instead.\n",
      "  warnings.warn(warning.format(ret))\n"
     ]
    },
    {
     "name": "stdout",
     "output_type": "stream",
     "text": [
      "epoch [1/10], loss:195.9930\n",
      "epoch [2/10], loss:166.0006\n",
      "epoch [3/10], loss:159.2876\n",
      "epoch [4/10], loss:155.0586\n",
      "epoch [5/10], loss:152.4954\n",
      "epoch [6/10], loss:150.3336\n",
      "epoch [7/10], loss:148.5115\n",
      "epoch [8/10], loss:147.3566\n",
      "epoch [9/10], loss:146.1432\n",
      "epoch [10/10], loss:145.3424\n"
     ]
    }
   ],
   "source": [
    "model.train()\n",
    "n_samples = 32\n",
    "z = torch.randn(n_samples,2).to(device)\n",
    "num_epochs = 10\n",
    "for epoch in range(num_epochs):\n",
    "    train_loss = 0\n",
    "    for batch_idx, data in enumerate(train_loader):\n",
    "        img, _ = data\n",
    "        img= img.view(img.size(0), -1)\n",
    "        img = img.to(device)\n",
    "        optimizer.zero_grad()\n",
    "        # forward\n",
    "        recon_batch, mu, logvar = model(img)\n",
    "        loss = loss_function_VAE(recon_batch, img, mu, logvar)\n",
    "        # backward\n",
    "        loss.backward()\n",
    "        train_loss += loss.item()\n",
    "        optimizer.step()\n",
    "    # print out losses and save reconstructions for every epoch\n",
    "    print('epoch [{}/{}], loss:{:.4f}'.format(epoch + 1, num_epochs, train_loss / len(train_loader.dataset)))\n",
    "    recon,_,_ = model(fixed_input.view(fixed_input.size(0), -1).to(device))\n",
    "    recon = denorm(recon.cpu())\n",
    "    save_image(recon, './VAE/reconstructed_epoch_{}.png'.format(epoch))\n",
    "    \n",
    "    samples = model.decode(z)\n",
    "    save_image(denorm(samples).cpu(), './VAE/samples_epoch_{}.png'.format(epoch),nrow = 8)\n",
    "\n",
    "# save the model\n",
    "torch.save(model.state_dict(), './VAE/model.pth')"
   ]
  },
  {
   "cell_type": "markdown",
   "metadata": {},
   "source": [
    "### Test"
   ]
  },
  {
   "cell_type": "code",
   "execution_count": 25,
   "metadata": {},
   "outputs": [
    {
     "name": "stdout",
     "output_type": "stream",
     "text": [
      "Test set loss: 146.2070\n"
     ]
    }
   ],
   "source": [
    "model.load_state_dict(torch.load(\"./VAE/model.pth\"))\n",
    "model.eval()\n",
    "test_loss = 0\n",
    "with torch.no_grad():\n",
    "    for i, data in enumerate(test_loader):\n",
    "        img, _ = data\n",
    "        img = img.view(img.size(0), -1)\n",
    "        img = img.to(device)\n",
    "        recon_batch, mu, logvar = model(img)\n",
    "        test_loss += loss_function_VAE(recon_batch, img, mu, logvar)\n",
    "        img = denorm(img.cpu())\n",
    "    test_loss /= len(test_loader.dataset)\n",
    "    print('Test set loss: {:.4f}'.format(test_loss))"
   ]
  },
  {
   "cell_type": "markdown",
   "metadata": {},
   "source": [
    "### Visualizations"
   ]
  },
  {
   "cell_type": "code",
   "execution_count": 26,
   "metadata": {
    "scrolled": true
   },
   "outputs": [
    {
     "data": {
      "image/png": "[encoded data removed]",
      "text/plain": [
       "<Figure size 432x288 with 1 Axes>"
      ]
     },
     "metadata": {
      "needs_background": "light"
     },
     "output_type": "display_data"
    }
   ],
   "source": [
    "# visualize the original images of the last batch of the test set\n",
    "img = make_grid(img.type(torch.FloatTensor), nrow=4, padding=2, normalize=False, range=None, scale_each=False, pad_value=0)\n",
    "show(img)"
   ]
  },
  {
   "cell_type": "code",
   "execution_count": 27,
   "metadata": {},
   "outputs": [
    {
     "name": "stdout",
     "output_type": "stream",
     "text": [
      "torch.Size([16, 1, 28, 28])\n"
     ]
    },
    {
     "data": {
      "image/png": "[encoded data removed]",
      "text/plain": [
       "<Figure size 432x288 with 1 Axes>"
      ]
     },
     "metadata": {
      "needs_background": "light"
     },
     "output_type": "display_data"
    }
   ],
   "source": [
    "# visualize the reconstructed images of the last batch of test set\n",
    "recon_batch_denorm = denorm(recon_batch.view(-1, 1, 28, 28).cpu())\n",
    "print(recon_batch_denorm.size())\n",
    "recon_batch_denorm = make_grid(recon_batch_denorm.type(torch.FloatTensor), nrow=4, padding=2, normalize=False, range=None, scale_each=False, pad_value=0)\n",
    "show(recon_batch_denorm)"
   ]
  },
  {
   "cell_type": "markdown",
   "metadata": {},
   "source": [
    "## Sample"
   ]
  },
  {
   "cell_type": "code",
   "execution_count": 28,
   "metadata": {},
   "outputs": [],
   "source": [
    "model.load_state_dict(torch.load(\"./VAE/model.pth\"))\n",
    "model.eval()\n",
    "n_samples = 32\n",
    "with torch.no_grad():\n",
    "    z = torch.sort(torch.randn(n_samples,1),dim=0)[0].to(device)\n",
    "    gridz1, gridz2 = torch.meshgrid(torch.squeeze(z),torch.squeeze(z))\n",
    "    gridz1 = gridz1.contiguous().view(-1,1)\n",
    "    gridz2 = gridz2.contiguous().view(-1,1)\n",
    "    gridz = torch.cat((gridz1,gridz2),1)\n",
    "    samples = model.decode(gridz)\n",
    "    save_image(denorm(samples).type(torch.FloatTensor).cpu(), './VAE/samples' + '.png',nrow = n_samples)\n"
   ]
  },
  {
   "cell_type": "code",
   "execution_count": null,
   "metadata": {},
   "outputs": [],
   "source": []
  }
 ],
 "metadata": {
  "kernelspec": {
   "display_name": "Python 3",
   "language": "python",
   "name": "python3"
  },
  "language_info": {
   "codemirror_mode": {
    "name": "ipython",
    "version": 2
   },
   "file_extension": ".py",
   "mimetype": "text/x-python",
   "name": "python",
   "nbconvert_exporter": "python",
   "pygments_lexer": "ipython2",
   "version": "2.7.15"
  }
 },
 "nbformat": 4,
 "nbformat_minor": 2
}
