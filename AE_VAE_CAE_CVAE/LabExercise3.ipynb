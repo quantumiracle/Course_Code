{
 "cells": [
  {
   "cell_type": "markdown",
   "metadata": {},
   "source": [
    "# CO460 - Deep Learning - Lab exercise 3"
   ]
  },
  {
   "cell_type": "markdown",
   "metadata": {},
   "source": [
    "## Introduction\n",
    "\n",
    "In this exercise, you will develop and experiment with convolutional AEs (CAE) and VAEs (CVAE).\n",
    "You will be asked to:\n",
    "\n",
    "- experiment with the architectures and compare the convolutional models to the fully connected ones. \n",
    "- investigate and implement sampling and interpolation in the latent space."
   ]
  },
  {
   "cell_type": "code",
   "execution_count": 1,
   "metadata": {},
   "outputs": [],
   "source": [
    "import os\n",
    "import torch\n",
    "import torch.nn as nn\n",
    "import torch.optim as optim\n",
    "from torch.utils.data import DataLoader\n",
    "from torchvision import datasets, transforms\n",
    "from torchvision.utils import save_image \n",
    "import torch.nn.functional as F\n",
    "from utils import *\n",
    "import matplotlib.pyplot as plt\n",
    "import numpy as np\n",
    "\n",
    "from utils import denorm_for_tanh, denorm_for_sigmoid"
   ]
  },
  {
   "cell_type": "markdown",
   "metadata": {},
   "source": [
    "### Device selection"
   ]
  },
  {
   "cell_type": "code",
   "execution_count": 2,
   "metadata": {},
   "outputs": [
    {
     "name": "stdout",
     "output_type": "stream",
     "text": [
      "cuda:0\n"
     ]
    }
   ],
   "source": [
    "GPU = True\n",
    "device_idx = 0\n",
    "if GPU:\n",
    "    device = torch.device(\"cuda:\"+str(device_idx) if torch.cuda.is_available() else \"cpu\")\n",
    "else:\n",
    "    \n",
    "    device = torch.device(\"cpu\")\n",
    "print(device)"
   ]
  },
  {
   "cell_type": "markdown",
   "metadata": {},
   "source": [
    "### Reproducibility"
   ]
  },
  {
   "cell_type": "code",
   "execution_count": 3,
   "metadata": {},
   "outputs": [
    {
     "data": {
      "text/plain": [
       "<torch._C.Generator at 0x7f666b5f3510>"
      ]
     },
     "execution_count": 3,
     "metadata": {},
     "output_type": "execute_result"
    }
   ],
   "source": [
    "# We set a random seed to ensure that your results are reproducible.\n",
    "if torch.cuda.is_available():\n",
    "    torch.backends.cudnn.deterministic = True\n",
    "torch.manual_seed(0)"
   ]
  },
  {
   "cell_type": "code",
   "execution_count": null,
   "metadata": {},
   "outputs": [],
   "source": []
  },
  {
   "cell_type": "markdown",
   "metadata": {},
   "source": [
    "## Part 1 - CAE"
   ]
  },
  {
   "cell_type": "markdown",
   "metadata": {},
   "source": [
    "### Normalization: \n",
    "$ x_{norm} = \\frac{x-\\mu}{\\sigma} $\n",
    "\n",
    "_Thus_ :\n",
    "$ \\min{x_{norm}} = \\frac{\\min{(x)}-\\mu}{\\sigma} = \\frac{0-0.5}{0.5} = -1 $\n",
    "\n",
    "_Similarly_:\n",
    "\n",
    "$ \\max{(x_{norm})} = ... = 1 $\n",
    "\n",
    "\n",
    "* Input $\\in [-1,1] $\n",
    "* Output should span the same interval $ \\rightarrow$ Activation function of the output layer should be chosen carfeully (Here??)"
   ]
  },
  {
   "cell_type": "code",
   "execution_count": 4,
   "metadata": {},
   "outputs": [
    {
     "name": "stdout",
     "output_type": "stream",
     "text": [
      "Downloading http://yann.lecun.com/exdb/mnist/train-images-idx3-ubyte.gz\n",
      "Downloading http://yann.lecun.com/exdb/mnist/train-labels-idx1-ubyte.gz\n",
      "Downloading http://yann.lecun.com/exdb/mnist/t10k-images-idx3-ubyte.gz\n",
      "Downloading http://yann.lecun.com/exdb/mnist/t10k-labels-idx1-ubyte.gz\n",
      "Processing...\n",
      "Done!\n"
     ]
    }
   ],
   "source": [
    "transform = transforms.Compose([\n",
    "     transforms.ToTensor(),\n",
    "     transforms.Normalize((0.5, 0.5, 0.5), (0.5, 0.5, 0.5))\n",
    "])\n",
    "\n",
    "denorm = denorm_for_tanh\n",
    "\n",
    "train_dat = datasets.MNIST(\n",
    "    \"data/\", train=True, download=True, transform=transform\n",
    ")\n",
    "test_dat = datasets.MNIST(\"data/\", train=False, transform=transform)"
   ]
  },
  {
   "cell_type": "markdown",
   "metadata": {},
   "source": [
    "### Hyper-parameter selection"
   ]
  },
  {
   "cell_type": "code",
   "execution_count": null,
   "metadata": {},
   "outputs": [],
   "source": [
    "if not os.path.exists('./CAE'):\n",
    "    os.mkdir('./CAE')\n",
    "    \n",
    "num_epochs = 20\n",
    "batch_size = 128\n",
    "learning_rate = 1e-3"
   ]
  },
  {
   "cell_type": "markdown",
   "metadata": {},
   "source": [
    "### Define the dataloaders"
   ]
  },
  {
   "cell_type": "code",
   "execution_count": null,
   "metadata": {},
   "outputs": [],
   "source": [
    "train_loader = DataLoader(train_dat, batch_size, shuffle=True)\n",
    "test_loader = DataLoader(test_dat, batch_size, shuffle=False)\n",
    "\n",
    "it = iter(test_loader)\n",
    "sample_inputs, _ = next(it)\n",
    "fixed_input = sample_inputs[:32, :, :, :]\n",
    "\n",
    "in_dim = fixed_input.shape[-1]*fixed_input.shape[-2]\n",
    "\n",
    "save_image(fixed_input, './CAE/image_original.png')"
   ]
  },
  {
   "cell_type": "markdown",
   "metadata": {},
   "source": [
    "### Define the model - CAE\n",
    "\n",
    "Complete the `encoder` and `decoder` methods in the CAE pipeline.\n",
    "\n",
    "To find an effective architecture, you can experiment with the following:\n",
    "- the number of convolutional layers\n",
    "- the kernels' sizes\n",
    "- the stride values\n",
    "- the size of the latent space layer"
   ]
  },
  {
   "cell_type": "code",
   "execution_count": null,
   "metadata": {},
   "outputs": [],
   "source": [
    "class CAE(nn.Module):\n",
    "    def __init__(self, latent_dim):\n",
    "        super(CAE, self).__init__()\n",
    "        \"\"\"\n",
    "        TODO: Define here the layers (convolutions, relu etc.) that will be\n",
    "        used in the encoder and decoder pipelines.\n",
    "        \"\"\"\n",
    "        \n",
    "        \n",
    "    def encode(self, x):\n",
    "        \"\"\"\n",
    "        TODO: Construct the encoder pipeline here. The encoder's\n",
    "        output will be the laten space representation of x.\n",
    "        \n",
    "        \"\"\"\n",
    "        \n",
    "        return x\n",
    "    \n",
    "    def decode(self, z):\n",
    "        \"\"\"\n",
    "        TODO: Construct the decoder pipeline here. The decoder should \n",
    "        generate an output tensor with equal dimenssions to the\n",
    "        encoder's input tensor.\n",
    "        \n",
    "        \"\"\"\n",
    "        \n",
    "        return z\n",
    "\n",
    "    def forward(self, x):\n",
    "        x = self.encoder(x)\n",
    "        x = self.decoder(x)\n",
    "        return x"
   ]
  },
  {
   "cell_type": "code",
   "execution_count": null,
   "metadata": {},
   "outputs": [],
   "source": [
    "# Instantiate the model\n",
    "latent_dim = \n",
    "cv_AE = CAE(latent_dim=latent_dim)"
   ]
  },
  {
   "cell_type": "markdown",
   "metadata": {},
   "source": [
    "### Define Loss function"
   ]
  },
  {
   "cell_type": "code",
   "execution_count": null,
   "metadata": {},
   "outputs": [],
   "source": [
    "criterion = nn.L1Loss(reduction='sum')  # can we use any other loss here?\n",
    "def loss_function_CAE(recon_x, x):\n",
    "    recon_loss = criterion(recon_x, x)\n",
    "    return recon_loss"
   ]
  },
  {
   "cell_type": "markdown",
   "metadata": {},
   "source": [
    "### Initialize Model and print number of parameters"
   ]
  },
  {
   "cell_type": "code",
   "execution_count": null,
   "metadata": {},
   "outputs": [],
   "source": [
    "model = cv_AE.to(device)\n",
    "params = sum(p.numel() for p in model.parameters() if p.requires_grad)\n",
    "print(\"Total number of parameters is: {}\".format(params))  # what would the number actually be?\n",
    "print(model)"
   ]
  },
  {
   "cell_type": "markdown",
   "metadata": {},
   "source": [
    "### Choose and initialize optimizer"
   ]
  },
  {
   "cell_type": "code",
   "execution_count": null,
   "metadata": {},
   "outputs": [],
   "source": [
    "optimizer = torch.optim.Adam(model.parameters(), lr=learning_rate)"
   ]
  },
  {
   "cell_type": "markdown",
   "metadata": {},
   "source": [
    "### Train"
   ]
  },
  {
   "cell_type": "code",
   "execution_count": null,
   "metadata": {
    "scrolled": true
   },
   "outputs": [],
   "source": [
    "model.train()\n",
    "\n",
    "for epoch in range(num_epochs):\n",
    "    train_loss = 0\n",
    "    for batch_idx, data in enumerate(train_loader):\n",
    "        img, _ = data\n",
    "        img = img.to(device)\n",
    "        optimizer.zero_grad()\n",
    "        # forward\n",
    "        recon_batch = model(img)\n",
    "        loss = loss_function_CAE(recon_batch, img)\n",
    "        # backward\n",
    "        loss.backward()\n",
    "        train_loss += loss.item()\n",
    "        optimizer.step()\n",
    "    # print out losses and save reconstructions for every epoch\n",
    "    print('epoch [{}/{}], loss:{:.4f}'.format(epoch + 1, num_epochs, train_loss / len(train_loader.dataset)))\n",
    "    recon = denorm(model(fixed_input.to(device)))\n",
    "    save_image(recon, './CAE/reconstructed_epoch_{}.png'.format(epoch))\n",
    "\n",
    "# save the model\n",
    "torch.save(model.state_dict(), './CAE/model.pth')"
   ]
  },
  {
   "cell_type": "markdown",
   "metadata": {},
   "source": [
    "### Test"
   ]
  },
  {
   "cell_type": "code",
   "execution_count": null,
   "metadata": {},
   "outputs": [],
   "source": [
    "# load the model\n",
    "model.load_state_dict(torch.load(\"./CAE/model.pth\"))\n",
    "model.eval()\n",
    "test_loss = 0\n",
    "with torch.no_grad():\n",
    "    for i, (img, _) in enumerate(test_loader):\n",
    "        img = img.to(device)\n",
    "        recon_batch = model(img)\n",
    "        test_loss += loss_function_CAE(recon_batch, img)\n",
    "    # reconstruct and save the last batch\n",
    "    recon_batch = model(recon_batch.to(device))\n",
    "    img = denorm(img.cpu())\n",
    "    # save the original last batch\n",
    "    save_image(img, './CAE/test_original.png')\n",
    "    save_image(denorm(recon_batch.cpu()), './CAE/reconstructed_test.png')\n",
    "    # loss calculated over the whole test set\n",
    "    test_loss /= len(test_loader.dataset)\n",
    "    print('Test set loss: {:.4f}'.format(test_loss))"
   ]
  },
  {
   "cell_type": "markdown",
   "metadata": {},
   "source": [
    "### Interpolations"
   ]
  },
  {
   "cell_type": "code",
   "execution_count": null,
   "metadata": {},
   "outputs": [],
   "source": [
    "# Define inpute tensors\n",
    "x1 = \n",
    "x2 = \n",
    "\n",
    "# Create the latent representations\n",
    "z1 = model.encode(x1)\n",
    "z2 = model.encode(x2)\n",
    "\n",
    "\"\"\"\n",
    "TODO: Find a way to create interpolated results from the CAE.\n",
    "\"\"\"\n",
    "Z = \n",
    "X_hat = model.decode(Z)"
   ]
  },
  {
   "cell_type": "markdown",
   "metadata": {},
   "source": [
    "## Part 2 - CVAE"
   ]
  },
  {
   "cell_type": "markdown",
   "metadata": {},
   "source": [
    "### Normalization"
   ]
  },
  {
   "cell_type": "code",
   "execution_count": null,
   "metadata": {},
   "outputs": [],
   "source": [
    "transform = transforms.Compose([\n",
    "     transforms.ToTensor(),\n",
    "     transforms.Normalize((0.5, 0.5, 0.5), (0.5, 0.5, 0.5))\n",
    "])\n",
    "\n",
    "denorm = denorm_for_tanh\n",
    "\n",
    "train_dat = datasets.MNIST(\n",
    "    \"data/\", train=True, download=True, transform=transform\n",
    ")\n",
    "test_dat = datasets.MNIST(\"data/\", train=False, transform=transform)"
   ]
  },
  {
   "cell_type": "markdown",
   "metadata": {},
   "source": [
    "### Hyper-parameter selection"
   ]
  },
  {
   "cell_type": "code",
   "execution_count": null,
   "metadata": {},
   "outputs": [],
   "source": [
    "if not os.path.exists('./CVAE'):\n",
    "    os.mkdir('./CVAE')\n",
    "    \n",
    "num_epochs = 20\n",
    "batch_size = 128\n",
    "learning_rate = 1e-3"
   ]
  },
  {
   "cell_type": "markdown",
   "metadata": {},
   "source": [
    "### Define the dataloaders"
   ]
  },
  {
   "cell_type": "code",
   "execution_count": null,
   "metadata": {},
   "outputs": [],
   "source": [
    "train_loader = DataLoader(train_dat, batch_size, shuffle=True)\n",
    "test_loader = DataLoader(test_dat, batch_size, shuffle=False)\n",
    "\n",
    "it = iter(test_loader)\n",
    "sample_inputs, _ = next(it)\n",
    "fixed_input = sample_inputs[:32, :, :, :]\n",
    "\n",
    "in_dim = fixed_input.shape[-1]*fixed_input.shape[-2]\n",
    "\n",
    "save_image(fixed_input, './CVAE/image_original.png')"
   ]
  },
  {
   "cell_type": "markdown",
   "metadata": {},
   "source": [
    "### Define the model - CVAE\n",
    "\n",
    "Complete the `encoder` and `decoder` methods in the CVAE pipeline.\n",
    "\n",
    "To find an effective architecture, you can experiment with the following:\n",
    "- the number of convolutional layers\n",
    "- the kernels' sizes\n",
    "- the stride values\n",
    "- the size of the latent space layer"
   ]
  },
  {
   "cell_type": "code",
   "execution_count": null,
   "metadata": {},
   "outputs": [],
   "source": [
    "class CVAE(nn.Module):\n",
    "    def __init__(self, latent_dim):\n",
    "        super(CVAE, self).__init__()\n",
    "        \"\"\"\n",
    "        TODO: Define here the layers (convolutions, relu etc.) that will be\n",
    "        used in the encoder and decoder pipelines.\n",
    "        \"\"\"\n",
    "        \n",
    "        \n",
    "    def encode(self, x):\n",
    "        \"\"\"\n",
    "        TODO: Construct the encoder pipeline here.        \n",
    "        \"\"\"\n",
    "\n",
    "        return mu, logvar\n",
    "\n",
    "    def reparametrize(self, mu, logvar):\n",
    "        \"\"\"\n",
    "        TODO: Implement reparameterization here.\n",
    "        \"\"\"\n",
    "\n",
    "        return z\n",
    "\n",
    "    def decode(self, z):\n",
    "        \"\"\"\n",
    "        TODO: Construct the decoder pipeline here.        \n",
    "        \"\"\"\n",
    "\n",
    "        return z\n",
    " \n",
    "    def forward(self, x):\n",
    "        mu, logvar = self.encode(x)\n",
    "        z = self.reparametrize(mu, logvar)\n",
    "        x_hat = self.decode(z)\n",
    "        return x_hat, mu, logvar"
   ]
  },
  {
   "cell_type": "code",
   "execution_count": null,
   "metadata": {},
   "outputs": [],
   "source": [
    "# Instantiate the model\n",
    "latent_dim = \n",
    "cv_VAE = CVAE(latent_dim =latent_dim)"
   ]
  },
  {
   "cell_type": "markdown",
   "metadata": {},
   "source": [
    "### Define Loss function"
   ]
  },
  {
   "cell_type": "code",
   "execution_count": null,
   "metadata": {},
   "outputs": [],
   "source": [
    "# Reconstruction + KL divergence losses summed over all elements and batch\n",
    "def loss_function_VAE(recon_x, x, mu, logvar):\n",
    "    BCE = F.binary_cross_entropy(recon_x, x, size_average=False)\n",
    "    KLD = -0.5 * torch.sum(1 + logvar - mu.pow(2) - logvar.exp())\n",
    "    return BCE + KLD"
   ]
  },
  {
   "cell_type": "markdown",
   "metadata": {},
   "source": [
    "### Initialize Model and print number of parameters"
   ]
  },
  {
   "cell_type": "code",
   "execution_count": null,
   "metadata": {},
   "outputs": [],
   "source": [
    "model = cv_AE.to(device)\n",
    "params = sum(p.numel() for p in model.parameters() if p.requires_grad)\n",
    "print(\"Total number of parameters is: {}\".format(params))  # what would the number actually be?\n",
    "print(model)"
   ]
  },
  {
   "cell_type": "markdown",
   "metadata": {},
   "source": [
    "### Choose and initialize optimizer"
   ]
  },
  {
   "cell_type": "code",
   "execution_count": null,
   "metadata": {},
   "outputs": [],
   "source": [
    "optimizer = torch.optim.Adam(model.parameters(), lr=learning_rate)"
   ]
  },
  {
   "cell_type": "markdown",
   "metadata": {},
   "source": [
    "### Train"
   ]
  },
  {
   "cell_type": "code",
   "execution_count": null,
   "metadata": {
    "scrolled": true
   },
   "outputs": [],
   "source": [
    "model.train()\n",
    "\n",
    "for epoch in range(num_epochs):\n",
    "    train_loss = 0\n",
    "    for batch_idx, data in enumerate(train_loader):\n",
    "        img, _ = data\n",
    "        img = img.to(device)\n",
    "        optimizer.zero_grad()\n",
    "        # forward\n",
    "        recon_batch = model(img)\n",
    "        loss = loss_function_CAE(recon_batch, img)\n",
    "        # backward\n",
    "        loss.backward()\n",
    "        train_loss += loss.item()\n",
    "        optimizer.step()\n",
    "    # print out losses and save reconstructions for every epoch\n",
    "    print('epoch [{}/{}], loss:{:.4f}'.format(epoch + 1, num_epochs, train_loss / len(train_loader.dataset)))\n",
    "    recon = denorm(model(fixed_input.to(device)))\n",
    "    save_image(recon, './CVAE/reconstructed_epoch_{}.png'.format(epoch))\n",
    "\n",
    "# save the model\n",
    "torch.save(model.state_dict(), './CVAE/model.pth')"
   ]
  },
  {
   "cell_type": "markdown",
   "metadata": {},
   "source": [
    "### Test"
   ]
  },
  {
   "cell_type": "code",
   "execution_count": null,
   "metadata": {},
   "outputs": [],
   "source": [
    "# load the model\n",
    "model.load_state_dict(torch.load(\"./CVAE/model.pth\"))\n",
    "model.eval()\n",
    "test_loss = 0\n",
    "with torch.no_grad():\n",
    "    for i, (img, _) in enumerate(test_loader):\n",
    "        img = img.to(device)\n",
    "        recon_batch = model(img)\n",
    "        test_loss += loss_function_CAE(recon_batch, img)\n",
    "    # reconstruct and save the last batch\n",
    "    recon_batch = model(recon_batch.to(device))\n",
    "    img = denorm(img.cpu())\n",
    "    # save the original last batch\n",
    "    save_image(img, './CVAE/test_original.png')\n",
    "    save_image(denorm(recon_batch.cpu()), './CVAE/reconstructed_test.png')\n",
    "    # loss calculated over the whole test set\n",
    "    test_loss /= len(test_loader.dataset)\n",
    "    print('Test set loss: {:.4f}'.format(test_loss))"
   ]
  },
  {
   "cell_type": "markdown",
   "metadata": {},
   "source": [
    "### Sample"
   ]
  },
  {
   "cell_type": "markdown",
   "metadata": {},
   "source": [
    "Sample the latent space and use the `decoder` to generate resutls."
   ]
  },
  {
   "cell_type": "code",
   "execution_count": null,
   "metadata": {},
   "outputs": [],
   "source": [
    "model.load_state_dict(torch.load(\"./CVAE/model.pth\"))\n",
    "model.eval()\n",
    "with torch.no_grad():\n",
    "    \"\"\"\n",
    "    TODO: Investigate how to sample the latent space of the CVAE.\n",
    "    \"\"\"\n",
    "    z = \n",
    "    sample = model.decode(z)\n",
    "    save_image(denorm(sample).cpu(), './CVAE/samples_' + '.png')"
   ]
  },
  {
   "cell_type": "markdown",
   "metadata": {},
   "source": [
    "### Interpolations"
   ]
  },
  {
   "cell_type": "code",
   "execution_count": null,
   "metadata": {},
   "outputs": [],
   "source": [
    "# Define inpute tensors\n",
    "x1 = \n",
    "x2 = \n",
    "\n",
    "# Create the latent representations\n",
    "z1 = model.encode(x1)\n",
    "z2 = model.encode(x2)\n",
    "\n",
    "\"\"\"\n",
    "TODO: Find a way to create interpolated results from the CVAE.\n",
    "\"\"\"\n",
    "Z = \n",
    "X_hat = model.decode(Z)"
   ]
  }
 ],
 "metadata": {
  "kernelspec": {
   "display_name": "Python 3",
   "language": "python",
   "name": "python3"
  },
  "language_info": {
   "codemirror_mode": {
    "name": "ipython",
    "version": 3
   },
   "file_extension": ".py",
   "mimetype": "text/x-python",
   "name": "python",
   "nbconvert_exporter": "python",
   "pygments_lexer": "ipython3",
   "version": "3.5.2"
  }
 },
 "nbformat": 4,
 "nbformat_minor": 2
}
